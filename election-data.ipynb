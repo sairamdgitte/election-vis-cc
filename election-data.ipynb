{
 "cells": [
  {
   "cell_type": "code",
   "execution_count": 1,
   "metadata": {},
   "outputs": [],
   "source": [
    "import pandas as pd\n",
    "import re\n",
    "import numpy as np\n",
    "from collections import Counter\n",
    "import json"
   ]
  },
  {
   "cell_type": "code",
   "execution_count": 2,
   "metadata": {},
   "outputs": [],
   "source": [
    "df = pd.read_csv('cc-australia-topic-prediction.csv')"
   ]
  },
  {
   "cell_type": "code",
   "execution_count": 3,
   "metadata": {},
   "outputs": [
    {
     "data": {
      "text/html": [
       "<div>\n",
       "<style scoped>\n",
       "    .dataframe tbody tr th:only-of-type {\n",
       "        vertical-align: middle;\n",
       "    }\n",
       "\n",
       "    .dataframe tbody tr th {\n",
       "        vertical-align: top;\n",
       "    }\n",
       "\n",
       "    .dataframe thead th {\n",
       "        text-align: right;\n",
       "    }\n",
       "</style>\n",
       "<table border=\"1\" class=\"dataframe\">\n",
       "  <thead>\n",
       "    <tr style=\"text-align: right;\">\n",
       "      <th></th>\n",
       "      <th>body</th>\n",
       "      <th>region_of_origin</th>\n",
       "      <th>publication_date</th>\n",
       "      <th>publisher_name</th>\n",
       "      <th>preprocessed_sentence</th>\n",
       "      <th>preprocessed_list_with_bi_tri</th>\n",
       "      <th>preprocessed_len</th>\n",
       "      <th>topics</th>\n",
       "    </tr>\n",
       "  </thead>\n",
       "  <tbody>\n",
       "    <tr>\n",
       "      <th>0</th>\n",
       "      <td>\"Dairy farmers are more than prepared to be pa...</td>\n",
       "      <td>AUSNZ AUSTR</td>\n",
       "      <td>1171497600000</td>\n",
       "      <td>West Australian Newspapers Limited</td>\n",
       "      <td>['dairy', 'farmers', 'prepared', 'part', 'mark...</td>\n",
       "      <td>['dairy_farm' 'prepar' 'part' 'market' 'water'...</td>\n",
       "      <td>55</td>\n",
       "      <td>topic 1</td>\n",
       "    </tr>\n",
       "    <tr>\n",
       "      <th>1</th>\n",
       "      <td>From simple shots of the night sky, replete wi...</td>\n",
       "      <td>AUSNZ AUSTR</td>\n",
       "      <td>1228348800000</td>\n",
       "      <td>West Australian Newspapers Limited</td>\n",
       "      <td>['simple', 'shots', 'night', 'replete', 'myria...</td>\n",
       "      <td>['simpl' 'shot' 'night' 'replet' 'myriad' 'twi...</td>\n",
       "      <td>307</td>\n",
       "      <td>topic 13</td>\n",
       "    </tr>\n",
       "    <tr>\n",
       "      <th>2</th>\n",
       "      <td>They worked off a climate model that suggests ...</td>\n",
       "      <td>AUSNZ AUSTR</td>\n",
       "      <td>1288828800000</td>\n",
       "      <td>West Australian Newspapers Limited</td>\n",
       "      <td>['worked', 'climate', 'model', 'suggests', 're...</td>\n",
       "      <td>['work' 'climat' 'model' 'suggest' 'region' 'r...</td>\n",
       "      <td>124</td>\n",
       "      <td>topic 21</td>\n",
       "    </tr>\n",
       "    <tr>\n",
       "      <th>3</th>\n",
       "      <td>It can be more difficult to tell the hard stor...</td>\n",
       "      <td>AUSNZ AUSTR</td>\n",
       "      <td>1474243200000</td>\n",
       "      <td>Fairfax Media Management Pty Limited</td>\n",
       "      <td>['difficult', 'tell', 'hard', 'stories', 'ment...</td>\n",
       "      <td>['difficult' 'tell' 'hard' 'stori' 'mental_hea...</td>\n",
       "      <td>101</td>\n",
       "      <td>topic 33</td>\n",
       "    </tr>\n",
       "    <tr>\n",
       "      <th>4</th>\n",
       "      <td>What are kids to think if our generation squib...</td>\n",
       "      <td>AUSNZ AUSTR</td>\n",
       "      <td>1489363200000</td>\n",
       "      <td>Fairfax Media Management Pty Limited</td>\n",
       "      <td>['kids', 'think', 'generation', 'squibs', 'cha...</td>\n",
       "      <td>['kid' 'think_generation_squib' 'chanc' 'preve...</td>\n",
       "      <td>90</td>\n",
       "      <td>topic 45</td>\n",
       "    </tr>\n",
       "    <tr>\n",
       "      <th>...</th>\n",
       "      <td>...</td>\n",
       "      <td>...</td>\n",
       "      <td>...</td>\n",
       "      <td>...</td>\n",
       "      <td>...</td>\n",
       "      <td>...</td>\n",
       "      <td>...</td>\n",
       "      <td>...</td>\n",
       "    </tr>\n",
       "    <tr>\n",
       "      <th>184325</th>\n",
       "      <td>Five programs are planned for Whittlesea.\\n\\nT...</td>\n",
       "      <td>AUSNZ AUSTR</td>\n",
       "      <td>1269388800000</td>\n",
       "      <td>Nationwide News Pty Ltd.</td>\n",
       "      <td>['five', 'programs', 'planned', 'whittlesea', ...</td>\n",
       "      <td>['five' 'program' 'plan' 'whittlesea' 'communi...</td>\n",
       "      <td>26</td>\n",
       "      <td>topic 1</td>\n",
       "    </tr>\n",
       "    <tr>\n",
       "      <th>184326</th>\n",
       "      <td>The report also identified a rise in the natio...</td>\n",
       "      <td>AUSNZ AUSTR</td>\n",
       "      <td>1123027200000</td>\n",
       "      <td>Nationwide News Pty Ltd.</td>\n",
       "      <td>['report', 'also', 'identified', 'rise', 'nati...</td>\n",
       "      <td>['report' 'also' 'identifi' 'rise' 'nation' 'a...</td>\n",
       "      <td>96</td>\n",
       "      <td>topic 21</td>\n",
       "    </tr>\n",
       "    <tr>\n",
       "      <th>184327</th>\n",
       "      <td>If only it was that simple. No one disputes th...</td>\n",
       "      <td>AUSNZ AUSTR</td>\n",
       "      <td>1617235200000</td>\n",
       "      <td>Yaffa Media Pty Ltd.</td>\n",
       "      <td>['simple', 'disputes', 'measure', 'global', 'w...</td>\n",
       "      <td>['simpl' 'disput' 'measur' 'global' 'warm' 'po...</td>\n",
       "      <td>409</td>\n",
       "      <td>topic 24</td>\n",
       "    </tr>\n",
       "    <tr>\n",
       "      <th>184328</th>\n",
       "      <td>\"No one has invested money into streamlining t...</td>\n",
       "      <td>AUSNZ AUSTR</td>\n",
       "      <td>1629072000000</td>\n",
       "      <td>Yaffa Media Pty Ltd.</td>\n",
       "      <td>['invested', 'money', 'streamlining', 'clearan...</td>\n",
       "      <td>['invest' 'money' 'streamlin' 'clearanc' 'proc...</td>\n",
       "      <td>153</td>\n",
       "      <td>topic 21</td>\n",
       "    </tr>\n",
       "    <tr>\n",
       "      <th>184329</th>\n",
       "      <td>The discussion then moves to the levelling eff...</td>\n",
       "      <td>AUSNZ AUSTR</td>\n",
       "      <td>1634083200000</td>\n",
       "      <td>Yaffa Media Pty Ltd.</td>\n",
       "      <td>['discussion', 'moves', 'levelling', 'effect',...</td>\n",
       "      <td>['discuss' 'move' 'level' 'effect' 'digit' 'te...</td>\n",
       "      <td>64</td>\n",
       "      <td>topic 1</td>\n",
       "    </tr>\n",
       "  </tbody>\n",
       "</table>\n",
       "<p>184330 rows × 8 columns</p>\n",
       "</div>"
      ],
      "text/plain": [
       "                                                     body region_of_origin  \\\n",
       "0       \"Dairy farmers are more than prepared to be pa...      AUSNZ AUSTR   \n",
       "1       From simple shots of the night sky, replete wi...      AUSNZ AUSTR   \n",
       "2       They worked off a climate model that suggests ...      AUSNZ AUSTR   \n",
       "3       It can be more difficult to tell the hard stor...      AUSNZ AUSTR   \n",
       "4       What are kids to think if our generation squib...      AUSNZ AUSTR   \n",
       "...                                                   ...              ...   \n",
       "184325  Five programs are planned for Whittlesea.\\n\\nT...      AUSNZ AUSTR   \n",
       "184326  The report also identified a rise in the natio...      AUSNZ AUSTR   \n",
       "184327  If only it was that simple. No one disputes th...      AUSNZ AUSTR   \n",
       "184328  \"No one has invested money into streamlining t...      AUSNZ AUSTR   \n",
       "184329  The discussion then moves to the levelling eff...      AUSNZ AUSTR   \n",
       "\n",
       "        publication_date                        publisher_name  \\\n",
       "0          1171497600000    West Australian Newspapers Limited   \n",
       "1          1228348800000    West Australian Newspapers Limited   \n",
       "2          1288828800000    West Australian Newspapers Limited   \n",
       "3          1474243200000  Fairfax Media Management Pty Limited   \n",
       "4          1489363200000  Fairfax Media Management Pty Limited   \n",
       "...                  ...                                   ...   \n",
       "184325     1269388800000              Nationwide News Pty Ltd.   \n",
       "184326     1123027200000              Nationwide News Pty Ltd.   \n",
       "184327     1617235200000                  Yaffa Media Pty Ltd.   \n",
       "184328     1629072000000                  Yaffa Media Pty Ltd.   \n",
       "184329     1634083200000                  Yaffa Media Pty Ltd.   \n",
       "\n",
       "                                    preprocessed_sentence  \\\n",
       "0       ['dairy', 'farmers', 'prepared', 'part', 'mark...   \n",
       "1       ['simple', 'shots', 'night', 'replete', 'myria...   \n",
       "2       ['worked', 'climate', 'model', 'suggests', 're...   \n",
       "3       ['difficult', 'tell', 'hard', 'stories', 'ment...   \n",
       "4       ['kids', 'think', 'generation', 'squibs', 'cha...   \n",
       "...                                                   ...   \n",
       "184325  ['five', 'programs', 'planned', 'whittlesea', ...   \n",
       "184326  ['report', 'also', 'identified', 'rise', 'nati...   \n",
       "184327  ['simple', 'disputes', 'measure', 'global', 'w...   \n",
       "184328  ['invested', 'money', 'streamlining', 'clearan...   \n",
       "184329  ['discussion', 'moves', 'levelling', 'effect',...   \n",
       "\n",
       "                            preprocessed_list_with_bi_tri  preprocessed_len  \\\n",
       "0       ['dairy_farm' 'prepar' 'part' 'market' 'water'...                55   \n",
       "1       ['simpl' 'shot' 'night' 'replet' 'myriad' 'twi...               307   \n",
       "2       ['work' 'climat' 'model' 'suggest' 'region' 'r...               124   \n",
       "3       ['difficult' 'tell' 'hard' 'stori' 'mental_hea...               101   \n",
       "4       ['kid' 'think_generation_squib' 'chanc' 'preve...                90   \n",
       "...                                                   ...               ...   \n",
       "184325  ['five' 'program' 'plan' 'whittlesea' 'communi...                26   \n",
       "184326  ['report' 'also' 'identifi' 'rise' 'nation' 'a...                96   \n",
       "184327  ['simpl' 'disput' 'measur' 'global' 'warm' 'po...               409   \n",
       "184328  ['invest' 'money' 'streamlin' 'clearanc' 'proc...               153   \n",
       "184329  ['discuss' 'move' 'level' 'effect' 'digit' 'te...                64   \n",
       "\n",
       "          topics  \n",
       "0        topic 1  \n",
       "1       topic 13  \n",
       "2       topic 21  \n",
       "3       topic 33  \n",
       "4       topic 45  \n",
       "...          ...  \n",
       "184325   topic 1  \n",
       "184326  topic 21  \n",
       "184327  topic 24  \n",
       "184328  topic 21  \n",
       "184329   topic 1  \n",
       "\n",
       "[184330 rows x 8 columns]"
      ]
     },
     "execution_count": 3,
     "metadata": {},
     "output_type": "execute_result"
    }
   ],
   "source": [
    "df"
   ]
  },
  {
   "cell_type": "code",
   "execution_count": 4,
   "metadata": {},
   "outputs": [
    {
     "data": {
      "text/plain": [
       "\"['dairy_farm' 'prepar' 'part' 'market' 'water' 'base' 'sound' 'plan'\\n 'provid' 'water' 'irrig' 'urban' 'user' 'environ' 'burgess' 'said'\\n 'communiti' 'deserv' 'well' 'inform' 'environment' 'issu' 'crucial'\\n 'lost' 'sight' 'fact' 'cent' 'dairy_farm' 'member' 'natur' 'resourc'\\n 'manag' 'group' 'usual' 'said' 'dairi' 'australia' 'biggest' 'food'\\n 'industri' 'three' 'billion' 'dollar' 'worth' 'milk' 'produc' 'farmgat'\\n 'turn' 'product' 'worth' 'nine' 'billion' 'dollar' 'factori' 'door']\""
      ]
     },
     "execution_count": 4,
     "metadata": {},
     "output_type": "execute_result"
    }
   ],
   "source": [
    "df.preprocessed_list_with_bi_tri[0]"
   ]
  },
  {
   "cell_type": "code",
   "execution_count": 5,
   "metadata": {},
   "outputs": [],
   "source": [
    "# Convert the list of words within a string \n",
    "# to a list of words\n",
    "df.preprocessed_list_with_bi_tri = df.preprocessed_list_with_bi_tri.apply(lambda x: re.findall(r\"'(\\w+)'\", x))"
   ]
  },
  {
   "cell_type": "code",
   "execution_count": 6,
   "metadata": {},
   "outputs": [
    {
     "data": {
      "text/html": [
       "<div>\n",
       "<style scoped>\n",
       "    .dataframe tbody tr th:only-of-type {\n",
       "        vertical-align: middle;\n",
       "    }\n",
       "\n",
       "    .dataframe tbody tr th {\n",
       "        vertical-align: top;\n",
       "    }\n",
       "\n",
       "    .dataframe thead th {\n",
       "        text-align: right;\n",
       "    }\n",
       "</style>\n",
       "<table border=\"1\" class=\"dataframe\">\n",
       "  <thead>\n",
       "    <tr style=\"text-align: right;\">\n",
       "      <th></th>\n",
       "      <th>body</th>\n",
       "      <th>region_of_origin</th>\n",
       "      <th>publication_date</th>\n",
       "      <th>publisher_name</th>\n",
       "      <th>preprocessed_sentence</th>\n",
       "      <th>preprocessed_list_with_bi_tri</th>\n",
       "      <th>preprocessed_len</th>\n",
       "      <th>topics</th>\n",
       "    </tr>\n",
       "  </thead>\n",
       "  <tbody>\n",
       "    <tr>\n",
       "      <th>0</th>\n",
       "      <td>\"Dairy farmers are more than prepared to be pa...</td>\n",
       "      <td>AUSNZ AUSTR</td>\n",
       "      <td>1171497600000</td>\n",
       "      <td>West Australian Newspapers Limited</td>\n",
       "      <td>['dairy', 'farmers', 'prepared', 'part', 'mark...</td>\n",
       "      <td>[dairy_farm, prepar, part, market, water, base...</td>\n",
       "      <td>55</td>\n",
       "      <td>topic 1</td>\n",
       "    </tr>\n",
       "    <tr>\n",
       "      <th>1</th>\n",
       "      <td>From simple shots of the night sky, replete wi...</td>\n",
       "      <td>AUSNZ AUSTR</td>\n",
       "      <td>1228348800000</td>\n",
       "      <td>West Australian Newspapers Limited</td>\n",
       "      <td>['simple', 'shots', 'night', 'replete', 'myria...</td>\n",
       "      <td>[simpl, shot, night, replet, myriad, twinkl, s...</td>\n",
       "      <td>307</td>\n",
       "      <td>topic 13</td>\n",
       "    </tr>\n",
       "    <tr>\n",
       "      <th>2</th>\n",
       "      <td>They worked off a climate model that suggests ...</td>\n",
       "      <td>AUSNZ AUSTR</td>\n",
       "      <td>1288828800000</td>\n",
       "      <td>West Australian Newspapers Limited</td>\n",
       "      <td>['worked', 'climate', 'model', 'suggests', 're...</td>\n",
       "      <td>[work, climat, model, suggest, region, receiv,...</td>\n",
       "      <td>124</td>\n",
       "      <td>topic 21</td>\n",
       "    </tr>\n",
       "    <tr>\n",
       "      <th>3</th>\n",
       "      <td>It can be more difficult to tell the hard stor...</td>\n",
       "      <td>AUSNZ AUSTR</td>\n",
       "      <td>1474243200000</td>\n",
       "      <td>Fairfax Media Management Pty Limited</td>\n",
       "      <td>['difficult', 'tell', 'hard', 'stories', 'ment...</td>\n",
       "      <td>[difficult, tell, hard, stori, mental_health, ...</td>\n",
       "      <td>101</td>\n",
       "      <td>topic 33</td>\n",
       "    </tr>\n",
       "    <tr>\n",
       "      <th>4</th>\n",
       "      <td>What are kids to think if our generation squib...</td>\n",
       "      <td>AUSNZ AUSTR</td>\n",
       "      <td>1489363200000</td>\n",
       "      <td>Fairfax Media Management Pty Limited</td>\n",
       "      <td>['kids', 'think', 'generation', 'squibs', 'cha...</td>\n",
       "      <td>[kid, think_generation_squib, chanc, prevent, ...</td>\n",
       "      <td>90</td>\n",
       "      <td>topic 45</td>\n",
       "    </tr>\n",
       "    <tr>\n",
       "      <th>...</th>\n",
       "      <td>...</td>\n",
       "      <td>...</td>\n",
       "      <td>...</td>\n",
       "      <td>...</td>\n",
       "      <td>...</td>\n",
       "      <td>...</td>\n",
       "      <td>...</td>\n",
       "      <td>...</td>\n",
       "    </tr>\n",
       "    <tr>\n",
       "      <th>184325</th>\n",
       "      <td>Five programs are planned for Whittlesea.\\n\\nT...</td>\n",
       "      <td>AUSNZ AUSTR</td>\n",
       "      <td>1269388800000</td>\n",
       "      <td>Nationwide News Pty Ltd.</td>\n",
       "      <td>['five', 'programs', 'planned', 'whittlesea', ...</td>\n",
       "      <td>[five, program, plan, whittlesea, communiti, t...</td>\n",
       "      <td>26</td>\n",
       "      <td>topic 1</td>\n",
       "    </tr>\n",
       "    <tr>\n",
       "      <th>184326</th>\n",
       "      <td>The report also identified a rise in the natio...</td>\n",
       "      <td>AUSNZ AUSTR</td>\n",
       "      <td>1123027200000</td>\n",
       "      <td>Nationwide News Pty Ltd.</td>\n",
       "      <td>['report', 'also', 'identified', 'rise', 'nati...</td>\n",
       "      <td>[report, also, identifi, rise, nation, averag,...</td>\n",
       "      <td>96</td>\n",
       "      <td>topic 21</td>\n",
       "    </tr>\n",
       "    <tr>\n",
       "      <th>184327</th>\n",
       "      <td>If only it was that simple. No one disputes th...</td>\n",
       "      <td>AUSNZ AUSTR</td>\n",
       "      <td>1617235200000</td>\n",
       "      <td>Yaffa Media Pty Ltd.</td>\n",
       "      <td>['simple', 'disputes', 'measure', 'global', 'w...</td>\n",
       "      <td>[simpl, disput, measur, global, warm, potenti,...</td>\n",
       "      <td>409</td>\n",
       "      <td>topic 24</td>\n",
       "    </tr>\n",
       "    <tr>\n",
       "      <th>184328</th>\n",
       "      <td>\"No one has invested money into streamlining t...</td>\n",
       "      <td>AUSNZ AUSTR</td>\n",
       "      <td>1629072000000</td>\n",
       "      <td>Yaffa Media Pty Ltd.</td>\n",
       "      <td>['invested', 'money', 'streamlining', 'clearan...</td>\n",
       "      <td>[invest, money, streamlin, clearanc, process, ...</td>\n",
       "      <td>153</td>\n",
       "      <td>topic 21</td>\n",
       "    </tr>\n",
       "    <tr>\n",
       "      <th>184329</th>\n",
       "      <td>The discussion then moves to the levelling eff...</td>\n",
       "      <td>AUSNZ AUSTR</td>\n",
       "      <td>1634083200000</td>\n",
       "      <td>Yaffa Media Pty Ltd.</td>\n",
       "      <td>['discussion', 'moves', 'levelling', 'effect',...</td>\n",
       "      <td>[discuss, move, level, effect, digit, technolo...</td>\n",
       "      <td>64</td>\n",
       "      <td>topic 1</td>\n",
       "    </tr>\n",
       "  </tbody>\n",
       "</table>\n",
       "<p>184330 rows × 8 columns</p>\n",
       "</div>"
      ],
      "text/plain": [
       "                                                     body region_of_origin  \\\n",
       "0       \"Dairy farmers are more than prepared to be pa...      AUSNZ AUSTR   \n",
       "1       From simple shots of the night sky, replete wi...      AUSNZ AUSTR   \n",
       "2       They worked off a climate model that suggests ...      AUSNZ AUSTR   \n",
       "3       It can be more difficult to tell the hard stor...      AUSNZ AUSTR   \n",
       "4       What are kids to think if our generation squib...      AUSNZ AUSTR   \n",
       "...                                                   ...              ...   \n",
       "184325  Five programs are planned for Whittlesea.\\n\\nT...      AUSNZ AUSTR   \n",
       "184326  The report also identified a rise in the natio...      AUSNZ AUSTR   \n",
       "184327  If only it was that simple. No one disputes th...      AUSNZ AUSTR   \n",
       "184328  \"No one has invested money into streamlining t...      AUSNZ AUSTR   \n",
       "184329  The discussion then moves to the levelling eff...      AUSNZ AUSTR   \n",
       "\n",
       "        publication_date                        publisher_name  \\\n",
       "0          1171497600000    West Australian Newspapers Limited   \n",
       "1          1228348800000    West Australian Newspapers Limited   \n",
       "2          1288828800000    West Australian Newspapers Limited   \n",
       "3          1474243200000  Fairfax Media Management Pty Limited   \n",
       "4          1489363200000  Fairfax Media Management Pty Limited   \n",
       "...                  ...                                   ...   \n",
       "184325     1269388800000              Nationwide News Pty Ltd.   \n",
       "184326     1123027200000              Nationwide News Pty Ltd.   \n",
       "184327     1617235200000                  Yaffa Media Pty Ltd.   \n",
       "184328     1629072000000                  Yaffa Media Pty Ltd.   \n",
       "184329     1634083200000                  Yaffa Media Pty Ltd.   \n",
       "\n",
       "                                    preprocessed_sentence  \\\n",
       "0       ['dairy', 'farmers', 'prepared', 'part', 'mark...   \n",
       "1       ['simple', 'shots', 'night', 'replete', 'myria...   \n",
       "2       ['worked', 'climate', 'model', 'suggests', 're...   \n",
       "3       ['difficult', 'tell', 'hard', 'stories', 'ment...   \n",
       "4       ['kids', 'think', 'generation', 'squibs', 'cha...   \n",
       "...                                                   ...   \n",
       "184325  ['five', 'programs', 'planned', 'whittlesea', ...   \n",
       "184326  ['report', 'also', 'identified', 'rise', 'nati...   \n",
       "184327  ['simple', 'disputes', 'measure', 'global', 'w...   \n",
       "184328  ['invested', 'money', 'streamlining', 'clearan...   \n",
       "184329  ['discussion', 'moves', 'levelling', 'effect',...   \n",
       "\n",
       "                            preprocessed_list_with_bi_tri  preprocessed_len  \\\n",
       "0       [dairy_farm, prepar, part, market, water, base...                55   \n",
       "1       [simpl, shot, night, replet, myriad, twinkl, s...               307   \n",
       "2       [work, climat, model, suggest, region, receiv,...               124   \n",
       "3       [difficult, tell, hard, stori, mental_health, ...               101   \n",
       "4       [kid, think_generation_squib, chanc, prevent, ...                90   \n",
       "...                                                   ...               ...   \n",
       "184325  [five, program, plan, whittlesea, communiti, t...                26   \n",
       "184326  [report, also, identifi, rise, nation, averag,...                96   \n",
       "184327  [simpl, disput, measur, global, warm, potenti,...               409   \n",
       "184328  [invest, money, streamlin, clearanc, process, ...               153   \n",
       "184329  [discuss, move, level, effect, digit, technolo...                64   \n",
       "\n",
       "          topics  \n",
       "0        topic 1  \n",
       "1       topic 13  \n",
       "2       topic 21  \n",
       "3       topic 33  \n",
       "4       topic 45  \n",
       "...          ...  \n",
       "184325   topic 1  \n",
       "184326  topic 21  \n",
       "184327  topic 24  \n",
       "184328  topic 21  \n",
       "184329   topic 1  \n",
       "\n",
       "[184330 rows x 8 columns]"
      ]
     },
     "execution_count": 6,
     "metadata": {},
     "output_type": "execute_result"
    }
   ],
   "source": [
    "df"
   ]
  },
  {
   "cell_type": "code",
   "execution_count": 7,
   "metadata": {},
   "outputs": [],
   "source": [
    "# Convert the timestamp column to datetime\n",
    "df['publication_date'] = pd.to_datetime(df['publication_date'], unit='ms')"
   ]
  },
  {
   "cell_type": "code",
   "execution_count": 8,
   "metadata": {},
   "outputs": [],
   "source": [
    "df['year'] = df.publication_date.dt.year"
   ]
  },
  {
   "attachments": {},
   "cell_type": "markdown",
   "metadata": {},
   "source": [
    "# Convert it to a json format"
   ]
  },
  {
   "attachments": {},
   "cell_type": "markdown",
   "metadata": {},
   "source": [
    "## For 2022"
   ]
  },
  {
   "cell_type": "code",
   "execution_count": 9,
   "metadata": {},
   "outputs": [],
   "source": [
    "def get_filtered_data_on_year(year):\n",
    "    df_year = df[df.year == year]\n",
    "    list_of_year_words = np.concatenate(df_year.preprocessed_list_with_bi_tri.values).tolist()\n",
    "    # Calculate the frequencies of each word\n",
    "    word_frequencies_year = Counter(list_of_year_words)\n",
    "    # Convert the frequencies to a dataframe\n",
    "    frequencies_df_year = pd.DataFrame.from_dict(word_frequencies_year, orient='index', columns=['Frequency'])\n",
    "    # Sort the dataframe by frequency in descending order\n",
    "    frequencies_df_year = frequencies_df_year.sort_values('Frequency', ascending=False)\n",
    "    frequencies_df_year = frequencies_df_year.iloc[0:60]\n",
    "    return frequencies_df_year, df_year"
   ]
  },
  {
   "cell_type": "code",
   "execution_count": 10,
   "metadata": {},
   "outputs": [],
   "source": [
    "def get_json_data(frequencies_df):\n",
    "    json_data_year = []\n",
    "    for i,r in frequencies_df.iterrows():\n",
    "        json_data = {\"word\": '', \"frequency\": 0}\n",
    "        json_data.update({\"word\": i, \"frequency\": int(r[0])})\n",
    "        json_data_year.append(json_data)\n",
    "    # Serialize the JSON data\n",
    "    json_string = json.dumps(json_data_year, ensure_ascii=False)\n",
    "\n",
    "    # Print the JSON string\n",
    "    return json_string\n"
   ]
  },
  {
   "cell_type": "code",
   "execution_count": 11,
   "metadata": {},
   "outputs": [],
   "source": [
    "frequencies_df_2022, df_2022 = get_filtered_data_on_year(year=2022)"
   ]
  },
  {
   "cell_type": "code",
   "execution_count": 12,
   "metadata": {},
   "outputs": [
    {
     "data": {
      "text/plain": [
       "'[{\"word\": \"climat\", \"frequency\": 43563}, {\"word\": \"said\", \"frequency\": 36519}, {\"word\": \"chang\", \"frequency\": 28592}, {\"word\": \"australia\", \"frequency\": 22547}, {\"word\": \"emiss\", \"frequency\": 21937}, {\"word\": \"govern\", \"frequency\": 21638}, {\"word\": \"energi\", \"frequency\": 19999}, {\"word\": \"year\", \"frequency\": 19693}, {\"word\": \"would\", \"frequency\": 17892}, {\"word\": \"cent\", \"frequency\": 15123}, {\"word\": \"carbon\", \"frequency\": 14211}, {\"word\": \"need\", \"frequency\": 13904}, {\"word\": \"also\", \"frequency\": 13138}, {\"word\": \"peopl\", \"frequency\": 11621}, {\"word\": \"world\", \"frequency\": 11011}, {\"word\": \"australian\", \"frequency\": 10945}, {\"word\": \"global\", \"frequency\": 10640}, {\"word\": \"nation\", \"frequency\": 10364}, {\"word\": \"time\", \"frequency\": 9931}, {\"word\": \"includ\", \"frequency\": 9711}, {\"word\": \"make\", \"frequency\": 9636}, {\"word\": \"target\", \"frequency\": 9220}, {\"word\": \"like\", \"frequency\": 9139}, {\"word\": \"labor\", \"frequency\": 9011}, {\"word\": \"say\", \"frequency\": 8985}, {\"word\": \"industri\", \"frequency\": 8969}, {\"word\": \"polici\", \"frequency\": 8962}, {\"word\": \"work\", \"frequency\": 8896}, {\"word\": \"support\", \"frequency\": 8761}, {\"word\": \"countri\", \"frequency\": 8488}, {\"word\": \"increas\", \"frequency\": 8482}, {\"word\": \"action\", \"frequency\": 8433}, {\"word\": \"project\", \"frequency\": 8377}, {\"word\": \"could\", \"frequency\": 8221}, {\"word\": \"compani\", \"frequency\": 8078}, {\"word\": \"green\", \"frequency\": 7841}, {\"word\": \"plan\", \"frequency\": 7804}, {\"word\": \"power\", \"frequency\": 7730}, {\"word\": \"reduc\", \"frequency\": 7431}, {\"word\": \"invest\", \"frequency\": 7265}, {\"word\": \"renew\", \"frequency\": 7219}, {\"word\": \"report\", \"frequency\": 7084}, {\"word\": \"develop\", \"frequency\": 7065}, {\"word\": \"cost\", \"frequency\": 6959}, {\"word\": \"communiti\", \"frequency\": 6676}, {\"word\": \"impact\", \"frequency\": 6674}, {\"word\": \"futur\", \"frequency\": 6618}, {\"word\": \"busi\", \"frequency\": 6615}, {\"word\": \"take\", \"frequency\": 6583}, {\"word\": \"product\", \"frequency\": 6559}, {\"word\": \"coal\", \"frequency\": 6498}, {\"word\": \"issu\", \"frequency\": 6294}, {\"word\": \"elect\", \"frequency\": 6264}, {\"word\": \"last\", \"frequency\": 6214}, {\"word\": \"want\", \"frequency\": 6175}, {\"word\": \"come\", \"frequency\": 6148}, {\"word\": \"help\", \"frequency\": 6143}, {\"word\": \"zero\", \"frequency\": 6096}, {\"word\": \"state\", \"frequency\": 5966}, {\"word\": \"mani\", \"frequency\": 5925}]'"
      ]
     },
     "execution_count": 12,
     "metadata": {},
     "output_type": "execute_result"
    }
   ],
   "source": [
    "get_json_data(frequencies_df_2022)"
   ]
  },
  {
   "attachments": {},
   "cell_type": "markdown",
   "metadata": {},
   "source": [
    "## For 2019"
   ]
  },
  {
   "cell_type": "code",
   "execution_count": 30,
   "metadata": {},
   "outputs": [],
   "source": [
    "frequencies_df_2019, df_2019 = get_filtered_data_on_year(year=2019)"
   ]
  },
  {
   "cell_type": "code",
   "execution_count": 31,
   "metadata": {},
   "outputs": [
    {
     "data": {
      "text/plain": [
       "'[{\"word\": \"climat\", \"frequency\": 63829}, {\"word\": \"said\", \"frequency\": 49892}, {\"word\": \"chang\", \"frequency\": 49193}, {\"word\": \"year\", \"frequency\": 25259}, {\"word\": \"would\", \"frequency\": 23870}, {\"word\": \"govern\", \"frequency\": 23849}, {\"word\": \"australia\", \"frequency\": 23680}, {\"word\": \"emiss\", \"frequency\": 23537}, {\"word\": \"peopl\", \"frequency\": 20186}, {\"word\": \"cent\", \"frequency\": 16872}, {\"word\": \"need\", \"frequency\": 15726}, {\"word\": \"energi\", \"frequency\": 15573}, {\"word\": \"also\", \"frequency\": 15027}, {\"word\": \"polici\", \"frequency\": 14569}, {\"word\": \"carbon\", \"frequency\": 13867}, {\"word\": \"time\", \"frequency\": 13471}, {\"word\": \"world\", \"frequency\": 13311}, {\"word\": \"labor\", \"frequency\": 13252}, {\"word\": \"like\", \"frequency\": 13062}, {\"word\": \"action\", \"frequency\": 12979}, {\"word\": \"global\", \"frequency\": 12791}, {\"word\": \"australian\", \"frequency\": 12721}, {\"word\": \"make\", \"frequency\": 11957}, {\"word\": \"nation\", \"frequency\": 11379}, {\"word\": \"take\", \"frequency\": 10512}, {\"word\": \"increas\", \"frequency\": 10070}, {\"word\": \"coal\", \"frequency\": 10058}, {\"word\": \"say\", \"frequency\": 9989}, {\"word\": \"issu\", \"frequency\": 9878}, {\"word\": \"includ\", \"frequency\": 9820}, {\"word\": \"support\", \"frequency\": 9766}, {\"word\": \"could\", \"frequency\": 9681}, {\"word\": \"work\", \"frequency\": 9404}, {\"word\": \"target\", \"frequency\": 9218}, {\"word\": \"cost\", \"frequency\": 9024}, {\"word\": \"countri\", \"frequency\": 8942}, {\"word\": \"want\", \"frequency\": 8861}, {\"word\": \"plan\", \"frequency\": 8857}, {\"word\": \"last\", \"frequency\": 8544}, {\"word\": \"mani\", \"frequency\": 8412}, {\"word\": \"reduc\", \"frequency\": 8345}, {\"word\": \"state\", \"frequency\": 8337}, {\"word\": \"industri\", \"frequency\": 8171}, {\"word\": \"power\", \"frequency\": 8056}, {\"word\": \"come\", \"frequency\": 7964}, {\"word\": \"communiti\", \"frequency\": 7910}, {\"word\": \"report\", \"frequency\": 7891}, {\"word\": \"futur\", \"frequency\": 7836}, {\"word\": \"water\", \"frequency\": 7801}, {\"word\": \"elect\", \"frequency\": 7789}, {\"word\": \"impact\", \"frequency\": 7703}, {\"word\": \"polit\", \"frequency\": 7375}, {\"word\": \"busi\", \"frequency\": 7294}, {\"word\": \"renew\", \"frequency\": 7196}, {\"word\": \"think\", \"frequency\": 7094}, {\"word\": \"call\", \"frequency\": 7055}, {\"word\": \"project\", \"frequency\": 6986}, {\"word\": \"use\", \"frequency\": 6824}, {\"word\": \"much\", \"frequency\": 6816}, {\"word\": \"well\", \"frequency\": 6723}]'"
      ]
     },
     "execution_count": 31,
     "metadata": {},
     "output_type": "execute_result"
    }
   ],
   "source": [
    "get_json_data(frequencies_df_2019)"
   ]
  },
  {
   "cell_type": "code",
   "execution_count": null,
   "metadata": {},
   "outputs": [],
   "source": []
  },
  {
   "attachments": {},
   "cell_type": "markdown",
   "metadata": {},
   "source": [
    "# For the bar chart"
   ]
  },
  {
   "attachments": {},
   "cell_type": "markdown",
   "metadata": {},
   "source": [
    "## For 2022"
   ]
  },
  {
   "cell_type": "code",
   "execution_count": 25,
   "metadata": {},
   "outputs": [],
   "source": [
    "def get_topic_names(year):\n",
    "    topic_names_inc_exc = pd.read_excel('../../../../renewed-topics/countries/australia/for-students/Climate_change_topic_names.xlsx', sheet_name='in')\n",
    "    # Retain the appropriate topics only\n",
    "    imp_topics_df = topic_names_inc_exc\n",
    "    imp_topics_df['Topic Number'] = imp_topics_df['Topic Number'].apply(lambda x: 'topic '+str(x))\n",
    "    topics_renamed = dict(zip(imp_topics_df['Topic Number'].values, imp_topics_df['Topic Name (created by research team)'].values))\n",
    "    if year == 2022:\n",
    "        df_2022['renamed_topics'] = df_2022.topics.map(topics_renamed)\n",
    "        return df_2022\n",
    "    elif year == 2019:\n",
    "        df_2019['renamed_topics'] = df_2019.topics.map(topics_renamed)\n",
    "        return df_2019\n",
    "    \n"
   ]
  },
  {
   "cell_type": "code",
   "execution_count": 26,
   "metadata": {},
   "outputs": [],
   "source": [
    "def get_json_data_bar(df_value_counts):\n",
    "    dates = []\n",
    "    for num, (i, r) in enumerate(df_value_counts.iteritems()):\n",
    "        dates.append({'date: ' + f'new Date(\"2021-0{num+3}-01\"), value: {r}, label: \"{i}\"'})\n",
    "    return dates"
   ]
  },
  {
   "cell_type": "code",
   "execution_count": 27,
   "metadata": {},
   "outputs": [
    {
     "name": "stderr",
     "output_type": "stream",
     "text": [
      "c:\\Users\\E116189\\RMIT\\Topic-modelling\\framework\\tpm\\lib\\site-packages\\ipykernel_launcher.py:8: SettingWithCopyWarning: \n",
      "A value is trying to be set on a copy of a slice from a DataFrame.\n",
      "Try using .loc[row_indexer,col_indexer] = value instead\n",
      "\n",
      "See the caveats in the documentation: https://pandas.pydata.org/pandas-docs/stable/user_guide/indexing.html#returning-a-view-versus-a-copy\n",
      "  \n"
     ]
    }
   ],
   "source": [
    "df_2022 = get_topic_names(2022)"
   ]
  },
  {
   "cell_type": "code",
   "execution_count": 28,
   "metadata": {},
   "outputs": [],
   "source": [
    "df_2022_topic_counts = df_2022.renamed_topics.value_counts()"
   ]
  },
  {
   "cell_type": "code",
   "execution_count": 29,
   "metadata": {},
   "outputs": [
    {
     "data": {
      "text/plain": [
       "\"Said\"                                           1980\n",
       "\"cent\"                                           1413\n",
       "\"Australia\"                                      1405\n",
       "General political coverage                        879\n",
       "Breaking temperature records                      408\n",
       "Biofuel                                           391\n",
       "Apocalyptic events                                351\n",
       "Nuclear power                                     343\n",
       "Coal mining                                       288\n",
       "Geopolitics                                       284\n",
       "Coral reefs                                       244\n",
       "Hydrogen power / carbon capture                   210\n",
       "Industry                                          203\n",
       "Agriculture                                       199\n",
       "Tim Flannery                                      187\n",
       "Schooling and education                           186\n",
       "Legal proceedings                                 179\n",
       "Waterways management                              165\n",
       "Business and investing                            147\n",
       "Plants and gardening                              137\n",
       "Tasmania                                          123\n",
       "Recycling and circular economy                    108\n",
       "Renewable energy                                  105\n",
       "Federal elections                                  94\n",
       "General media reporting                            94\n",
       "Global poverty and conflict                        86\n",
       "Glaciers and polar ice                             85\n",
       "The news media                                     82\n",
       "Bushfires                                          75\n",
       "Environmentally responsible investing              73\n",
       "Cars and trucks (including electrification)        68\n",
       "Religion and winemaking                            64\n",
       "Supporting regional communities                    62\n",
       "Social security and welfare policy                 56\n",
       "Air travel                                         55\n",
       "Technological innovation                           49\n",
       "Morrison Government                                46\n",
       "Biodiversity, habitats and extinction              41\n",
       "Gas mine development                               41\n",
       "Climate activism and protests                      39\n",
       "Sustainable homes                                  33\n",
       "General news                                       32\n",
       "Extreme weather events                             27\n",
       "General Australian news                            27\n",
       "Climate forcasting                                 25\n",
       "Sports and Entertainment                           19\n",
       "Climate Science                                    19\n",
       "Macroeconomics                                     16\n",
       "\"Climate Change\" (all references to the term)      15\n",
       "General construction and business                  14\n",
       "Climate Pollution Reduction Scheme (2008)          13\n",
       "Community events                                   11\n",
       "Coal fired power stations                          10\n",
       "Effects on oceans and ozone layer                   7\n",
       "Garnaut report                                      7\n",
       "International summits                               7\n",
       "Debating denialism                                  7\n",
       "Earth hour                                          5\n",
       "Letters to the editor                               4\n",
       "Name: renamed_topics, dtype: int64"
      ]
     },
     "execution_count": 29,
     "metadata": {},
     "output_type": "execute_result"
    }
   ],
   "source": [
    "df_2022_topic_counts"
   ]
  },
  {
   "cell_type": "code",
   "execution_count": null,
   "metadata": {},
   "outputs": [],
   "source": [
    "#  { date: new Date(\"2021-03-01\"), value: 15, label: 'Topic 2' }],"
   ]
  },
  {
   "cell_type": "code",
   "execution_count": 179,
   "metadata": {},
   "outputs": [],
   "source": []
  },
  {
   "cell_type": "code",
   "execution_count": 180,
   "metadata": {},
   "outputs": [
    {
     "data": {
      "text/plain": [
       "[{'date: new Date(\"2021-03-01\"), value: 825, label: \"Billionaires\"'},\n",
       " {'date: new Date(\"2021-04-01\"), value: 442, label: \"Criminal law\"'},\n",
       " {'date: new Date(\"2021-05-01\"), value: 373, label: \"Superannuation\"'},\n",
       " {'date: new Date(\"2021-06-01\"), value: 301, label: \"Pubilc statements (see 38) \"'},\n",
       " {'date: new Date(\"2021-07-01\"), value: 257, label: \"Social security and government benefits\"'},\n",
       " {'date: new Date(\"2021-08-01\"), value: 244, label: \"Life insurance\"'},\n",
       " {'date: new Date(\"2021-09-01\"), value: 233, label: \"Food and cooking\"'},\n",
       " {'date: new Date(\"2021-010-01\"), value: 190, label: \"Property market\"'},\n",
       " {'date: new Date(\"2021-011-01\"), value: 152, label: \"Food and nutrition\"'},\n",
       " {'date: new Date(\"2021-012-01\"), value: 151, label: \"Start ups\"'},\n",
       " {'date: new Date(\"2021-013-01\"), value: 150, label: \"Education and training\"'},\n",
       " {'date: new Date(\"2021-014-01\"), value: 124, label: \"Trusts and lending\"'},\n",
       " {'date: new Date(\"2021-015-01\"), value: 107, label: \"Index funds\"'},\n",
       " {'date: new Date(\"2021-016-01\"), value: 106, label: \"More public statements (see 26)\"'},\n",
       " {'date: new Date(\"2021-017-01\"), value: 106, label: \"Banking royal commission\"'},\n",
       " {'date: new Date(\"2021-018-01\"), value: 102, label: \"First homebuyers\"'},\n",
       " {'date: new Date(\"2021-019-01\"), value: 100, label: \"Australian stock market\"'},\n",
       " {'date: new Date(\"2021-020-01\"), value: 96, label: \"Homes, houses and renovation\"'},\n",
       " {'date: new Date(\"2021-021-01\"), value: 93, label: \"Investment trusts\"'},\n",
       " {'date: new Date(\"2021-022-01\"), value: 90, label: \"Renewable energy\"'},\n",
       " {'date: new Date(\"2021-023-01\"), value: 89, label: \"International markets\"'},\n",
       " {'date: new Date(\"2021-024-01\"), value: 74, label: \"Stock warrants (options)\"'},\n",
       " {'date: new Date(\"2021-025-01\"), value: 68, label: \"Share investing game\"'},\n",
       " {'date: new Date(\"2021-026-01\"), value: 59, label: \"Investing for retirement\"'},\n",
       " {'date: new Date(\"2021-027-01\"), value: 55, label: \"Lost superannuation accounts\"'},\n",
       " {'date: new Date(\"2021-028-01\"), value: 51, label: \"Inheritance and family legal affairs\"'},\n",
       " {'date: new Date(\"2021-029-01\"), value: 49, label: \"Propery sale and investment in retirement\"'},\n",
       " {'date: new Date(\"2021-030-01\"), value: 44, label: \"Retirement\"'},\n",
       " {'date: new Date(\"2021-031-01\"), value: 43, label: \"Water bills and water infrastructure\"'},\n",
       " {'date: new Date(\"2021-032-01\"), value: 39, label: \"Fintech and online payments\"'},\n",
       " {'date: new Date(\"2021-033-01\"), value: 35, label: \"Technical investment advice\"'},\n",
       " {'date: new Date(\"2021-034-01\"), value: 32, label: \"Art markets\"'},\n",
       " {'date: new Date(\"2021-035-01\"), value: 26, label: \"Financial scams\"'},\n",
       " {'date: new Date(\"2021-036-01\"), value: 24, label: \"Mining\"'},\n",
       " {'date: new Date(\"2021-037-01\"), value: 21, label: \"General/uncategorised\"'},\n",
       " {'date: new Date(\"2021-038-01\"), value: 20, label: \"Debt and lending\"'},\n",
       " {'date: new Date(\"2021-039-01\"), value: 17, label: \"Executive remuneration\"'},\n",
       " {'date: new Date(\"2021-040-01\"), value: 3, label: \"Divorce and family legal affairs\"'},\n",
       " {'date: new Date(\"2021-041-01\"), value: 1, label: \"Federal politics\"'}]"
      ]
     },
     "execution_count": 180,
     "metadata": {},
     "output_type": "execute_result"
    }
   ],
   "source": [
    "dates"
   ]
  },
  {
   "attachments": {},
   "cell_type": "markdown",
   "metadata": {},
   "source": [
    "## For 2019"
   ]
  },
  {
   "cell_type": "code",
   "execution_count": 182,
   "metadata": {},
   "outputs": [
    {
     "name": "stderr",
     "output_type": "stream",
     "text": [
      "c:\\Users\\E116189\\RMIT\\Topic-modelling\\framework\\tpm\\lib\\site-packages\\ipykernel_launcher.py:11: SettingWithCopyWarning: \n",
      "A value is trying to be set on a copy of a slice from a DataFrame.\n",
      "Try using .loc[row_indexer,col_indexer] = value instead\n",
      "\n",
      "See the caveats in the documentation: https://pandas.pydata.org/pandas-docs/stable/user_guide/indexing.html#returning-a-view-versus-a-copy\n",
      "  # This is added back by InteractiveShellApp.init_path()\n"
     ]
    }
   ],
   "source": [
    "df_2019 = get_topic_names(2019)"
   ]
  },
  {
   "cell_type": "code",
   "execution_count": 184,
   "metadata": {},
   "outputs": [],
   "source": [
    "df_2019_topic_counts = df_2019.renamed_topics.value_counts()"
   ]
  },
  {
   "cell_type": "code",
   "execution_count": 185,
   "metadata": {},
   "outputs": [
    {
     "data": {
      "text/plain": [
       "Billionaires                                 583\n",
       "Criminal law                                 583\n",
       "Pubilc statements (see 38)                   560\n",
       "Life insurance                               386\n",
       "Education and training                       342\n",
       "Superannuation                               319\n",
       "Food and cooking                             313\n",
       "Property market                              237\n",
       "Social security and government benefits      198\n",
       "Trusts and lending                           179\n",
       "Renewable energy                             168\n",
       "Australian stock market                      167\n",
       "Food and nutrition                           152\n",
       "Start ups                                    150\n",
       "Investment trusts                            142\n",
       "More public statements (see 26)              125\n",
       "International markets                        122\n",
       "Stock warrants (options)                     100\n",
       "Banking royal commission                      97\n",
       "Homes, houses and renovation                  89\n",
       "First homebuyers                              78\n",
       "Index funds                                   74\n",
       "Investing for retirement                      74\n",
       "Lost superannuation accounts                  66\n",
       "General/uncategorised                         60\n",
       "Propery sale and investment in retirement     55\n",
       "Mining                                        50\n",
       "Fintech and online payments                   45\n",
       "Inheritance and family legal affairs          39\n",
       "Share investing game                          34\n",
       "Technical investment advice                   33\n",
       "Retirement                                    33\n",
       "Executive remuneration                        29\n",
       "Financial scams                               25\n",
       "Art markets                                   24\n",
       "Water bills and water infrastructure          22\n",
       "Divorce and family legal affairs              22\n",
       "Debt and lending                              14\n",
       "Retirement savings                             9\n",
       "Finacial gurus                                 5\n",
       "Financial advisors                             2\n",
       "Hedge funds                                    1\n",
       "Name: renamed_topics, dtype: int64"
      ]
     },
     "execution_count": 185,
     "metadata": {},
     "output_type": "execute_result"
    }
   ],
   "source": [
    "df_2019_topic_counts"
   ]
  },
  {
   "cell_type": "code",
   "execution_count": 187,
   "metadata": {},
   "outputs": [
    {
     "data": {
      "text/plain": [
       "[{'date: new Date(\"2021-03-01\"), value: 583, label: \"Billionaires\"'},\n",
       " {'date: new Date(\"2021-04-01\"), value: 583, label: \"Criminal law\"'},\n",
       " {'date: new Date(\"2021-05-01\"), value: 560, label: \"Pubilc statements (see 38) \"'},\n",
       " {'date: new Date(\"2021-06-01\"), value: 386, label: \"Life insurance\"'},\n",
       " {'date: new Date(\"2021-07-01\"), value: 342, label: \"Education and training\"'},\n",
       " {'date: new Date(\"2021-08-01\"), value: 319, label: \"Superannuation\"'},\n",
       " {'date: new Date(\"2021-09-01\"), value: 313, label: \"Food and cooking\"'},\n",
       " {'date: new Date(\"2021-010-01\"), value: 237, label: \"Property market\"'},\n",
       " {'date: new Date(\"2021-011-01\"), value: 198, label: \"Social security and government benefits\"'},\n",
       " {'date: new Date(\"2021-012-01\"), value: 179, label: \"Trusts and lending\"'},\n",
       " {'date: new Date(\"2021-013-01\"), value: 168, label: \"Renewable energy\"'},\n",
       " {'date: new Date(\"2021-014-01\"), value: 167, label: \"Australian stock market\"'},\n",
       " {'date: new Date(\"2021-015-01\"), value: 152, label: \"Food and nutrition\"'},\n",
       " {'date: new Date(\"2021-016-01\"), value: 150, label: \"Start ups\"'},\n",
       " {'date: new Date(\"2021-017-01\"), value: 142, label: \"Investment trusts\"'},\n",
       " {'date: new Date(\"2021-018-01\"), value: 125, label: \"More public statements (see 26)\"'},\n",
       " {'date: new Date(\"2021-019-01\"), value: 122, label: \"International markets\"'},\n",
       " {'date: new Date(\"2021-020-01\"), value: 100, label: \"Stock warrants (options)\"'},\n",
       " {'date: new Date(\"2021-021-01\"), value: 97, label: \"Banking royal commission\"'},\n",
       " {'date: new Date(\"2021-022-01\"), value: 89, label: \"Homes, houses and renovation\"'},\n",
       " {'date: new Date(\"2021-023-01\"), value: 78, label: \"First homebuyers\"'},\n",
       " {'date: new Date(\"2021-024-01\"), value: 74, label: \"Index funds\"'},\n",
       " {'date: new Date(\"2021-025-01\"), value: 74, label: \"Investing for retirement\"'},\n",
       " {'date: new Date(\"2021-026-01\"), value: 66, label: \"Lost superannuation accounts\"'},\n",
       " {'date: new Date(\"2021-027-01\"), value: 60, label: \"General/uncategorised\"'},\n",
       " {'date: new Date(\"2021-028-01\"), value: 55, label: \"Propery sale and investment in retirement\"'},\n",
       " {'date: new Date(\"2021-029-01\"), value: 50, label: \"Mining\"'},\n",
       " {'date: new Date(\"2021-030-01\"), value: 45, label: \"Fintech and online payments\"'},\n",
       " {'date: new Date(\"2021-031-01\"), value: 39, label: \"Inheritance and family legal affairs\"'},\n",
       " {'date: new Date(\"2021-032-01\"), value: 34, label: \"Share investing game\"'},\n",
       " {'date: new Date(\"2021-033-01\"), value: 33, label: \"Technical investment advice\"'},\n",
       " {'date: new Date(\"2021-034-01\"), value: 33, label: \"Retirement\"'},\n",
       " {'date: new Date(\"2021-035-01\"), value: 29, label: \"Executive remuneration\"'},\n",
       " {'date: new Date(\"2021-036-01\"), value: 25, label: \"Financial scams\"'},\n",
       " {'date: new Date(\"2021-037-01\"), value: 24, label: \"Art markets\"'},\n",
       " {'date: new Date(\"2021-038-01\"), value: 22, label: \"Water bills and water infrastructure\"'},\n",
       " {'date: new Date(\"2021-039-01\"), value: 22, label: \"Divorce and family legal affairs\"'},\n",
       " {'date: new Date(\"2021-040-01\"), value: 14, label: \"Debt and lending\"'},\n",
       " {'date: new Date(\"2021-041-01\"), value: 9, label: \"Retirement savings\"'},\n",
       " {'date: new Date(\"2021-042-01\"), value: 5, label: \"Finacial gurus\"'},\n",
       " {'date: new Date(\"2021-043-01\"), value: 2, label: \"Financial advisors\"'},\n",
       " {'date: new Date(\"2021-044-01\"), value: 1, label: \"Hedge funds\"'}]"
      ]
     },
     "execution_count": 187,
     "metadata": {},
     "output_type": "execute_result"
    }
   ],
   "source": [
    "get_json_data_bar(df_2019_topic_counts)"
   ]
  }
 ],
 "metadata": {
  "kernelspec": {
   "display_name": "tpm",
   "language": "python",
   "name": "python3"
  },
  "language_info": {
   "codemirror_mode": {
    "name": "ipython",
    "version": 3
   },
   "file_extension": ".py",
   "mimetype": "text/x-python",
   "name": "python",
   "nbconvert_exporter": "python",
   "pygments_lexer": "ipython3",
   "version": "3.7.5"
  },
  "orig_nbformat": 4
 },
 "nbformat": 4,
 "nbformat_minor": 2
}
